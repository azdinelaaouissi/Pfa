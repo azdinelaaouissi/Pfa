{
  "nbformat": 4,
  "nbformat_minor": 0,
  "metadata": {
    "colab": {
      "provenance": [],
      "mount_file_id": "105-UQQAljvK92lisvWUIbl-F_my25yd1",
      "authorship_tag": "ABX9TyOBN7+ucrDJcdaPkc10o0sM",
      "include_colab_link": true
    },
    "kernelspec": {
      "name": "python3",
      "display_name": "Python 3"
    },
    "language_info": {
      "name": "python"
    }
  },
  "cells": [
    {
      "cell_type": "markdown",
      "metadata": {
        "id": "view-in-github",
        "colab_type": "text"
      },
      "source": [
        "<a href=\"https://colab.research.google.com/github/azdinelaaouissi/Pfa/blob/main/NSCLCR01Radiogenomic_DATA_L.ipynb\" target=\"_parent\"><img src=\"https://colab.research.google.com/assets/colab-badge.svg\" alt=\"Open In Colab\"/></a>"
      ]
    },
    {
      "cell_type": "code",
      "execution_count": 1,
      "metadata": {
        "id": "WlqQSXYzz-HT"
      },
      "outputs": [],
      "source": [
        "import  pandas  as  pd\n",
        "import  numpy  as  np\n"
      ]
    },
    {
      "cell_type": "code",
      "source": [
        "file_path=\"/content/drive/MyDrive/PFA/latest_all_data_final.xlsx\""
      ],
      "metadata": {
        "id": "d0Jo5_7aTvxL"
      },
      "execution_count": 11,
      "outputs": []
    },
    {
      "cell_type": "code",
      "source": [
        "exel_data=pd.ExcelFile(\"/content/drive/MyDrive/PFA/latest_all_data_final.xlsx\")"
      ],
      "metadata": {
        "id": "CXmsR2BA91tY"
      },
      "execution_count": 8,
      "outputs": []
    },
    {
      "cell_type": "code",
      "source": [
        "sheet_names = exel_data.sheet_names\n",
        "sheet_names"
      ],
      "metadata": {
        "colab": {
          "base_uri": "https://localhost:8080/"
        },
        "id": "WKilHmS3PZWF",
        "outputId": "caff0332-daf6-4255-ff15-337ae55254c4"
      },
      "execution_count": 9,
      "outputs": [
        {
          "output_type": "execute_result",
          "data": {
            "text/plain": [
              "['Biomarkers_Handled',\n",
              " 'GSE103584_R01_NSCLC_RNAseq',\n",
              " 'metadata',\n",
              " 'NSCLCR01Radiogenomic_DATA_L']"
            ]
          },
          "metadata": {},
          "execution_count": 9
        }
      ]
    },
    {
      "cell_type": "code",
      "source": [
        "df= pd.read_excel(file_path, sheet_name='NSCLCR01Radiogenomic_DATA_L')\n",
        "df.head()"
      ],
      "metadata": {
        "id": "g9DU51Pu_bce"
      },
      "execution_count": null,
      "outputs": []
    },
    {
      "cell_type": "code",
      "source": [
        "df.shape"
      ],
      "metadata": {
        "colab": {
          "base_uri": "https://localhost:8080/"
        },
        "id": "zDx5hYbITg8F",
        "outputId": "92c4bd20-53cd-4f19-d94e-2493e834982c"
      },
      "execution_count": 13,
      "outputs": [
        {
          "output_type": "execute_result",
          "data": {
            "text/plain": [
              "(211, 40)"
            ]
          },
          "metadata": {},
          "execution_count": 13
        }
      ]
    },
    {
      "cell_type": "code",
      "source": [
        "df.columns"
      ],
      "metadata": {
        "id": "Ce2he1OPUhqo"
      },
      "execution_count": null,
      "outputs": []
    },
    {
      "cell_type": "markdown",
      "source": [
        "<center>\n",
        "  <h1 style=\"color: red;\">Description détaillée de chaque colonne du dataset\n",
        "  NSCLCR01Radiogenomic_DATA_L</h1>\n",
        "</center>\n",
        "\n"
      ],
      "metadata": {
        "id": "JHIGnZRxdtsM"
      }
    },
    {
      "cell_type": "markdown",
      "source": [
        "\n",
        "1. **Case ID**: Identifiant unique pour chaque patient.\n",
        "2. **Patient affiliation**: Affiliation du patient (ex. VA).\n",
        "3. **Age at Histological Diagnosis**: Âge du patient au moment du diagnostic histologique.\n",
        "4. **Weight (lbs)**: Poids du patient en livres.\n",
        "5. **Gender**: Sexe du patient (ex. Male, Female).\n",
        "6. **Ethnicity**: Ethnicité du patient (ex. Caucasian, African-American).\n",
        "7. **Smoking status**: Statut tabagique (ex. Current, Former).\n",
        "8. **Pack Years**: Nombre de paquets-année fumés par le patient (ex. 20 pack years signifie 1 paquet par jour pendant 20 ans).\n",
        "9. **Quit Smoking Year**: Année d'arrêt du tabac.\n",
        "10. **GG**: Pourcentage de ground-glass opacity (GGO) dans les images pulmonaires.\n",
        "11. **Tumor Location (choice=RUL)**: Localisation de la tumeur dans le lobe supérieur droit.\n",
        "12. **Tumor Location (choice=RML)**: Localisation de la tumeur dans le lobe moyen droit.\n",
        "13. **Tumor Location (choice=RLL)**: Localisation de la tumeur dans le lobe inférieur droit.\n",
        "14. **Tumor Location (choice=LUL)**: Localisation de la tumeur dans le lobe supérieur gauche.\n",
        "15. **Tumor Location (choice=LLL)**: Localisation de la tumeur dans le lobe inférieur gauche.\n",
        "16. **Tumor Location (choice=L Lingula)**: Localisation de la tumeur dans le lingula du poumon gauche.\n",
        "17. **Tumor Location (choice=Unknown)**: Localisation de la tumeur inconnue.\n",
        "18. **Histology**: Type histologique de la tumeur (ex. adénocarcinome, carcinome épidermoïde).\n",
        "19. **Pathological T stage**: Stade T pathologique (taille et extension de la tumeur primaire).\n",
        "20. **Pathological N stage**: Stade N pathologique (atteinte des ganglions lymphatiques).\n",
        "21. **Pathological M stage**: Stade M pathologique (présence de métastases à distance).\n",
        "22. **Histopathological Grade**: Grade histopathologique de la tumeur (ex. bien différencié, modérément différencié).\n",
        "23. **Lymphovascular invasion**: Présence d'invasion lymphovasculaire.\n",
        "24. **Pleural invasion (elastic, visceral, or parietal)**: Présence d'invasion pleurale (élastique, viscérale ou pariétale).\n",
        "25. **EGFR mutation status**: Statut de la mutation EGFR (ex. muté, non muté).\n",
        "26. **KRAS mutation status**: Statut de la mutation KRAS (ex. muté, non muté).\n",
        "27. **ALK translocation status**: Statut de la translocation ALK (ex. positif, négatif).\n",
        "28. **Adjuvant Treatment**: Traitement adjuvant administré (ex. chimiothérapie, radiothérapie).\n",
        "29. **Chemotherapy**: Si le patient a reçu une chimiothérapie (ex. Yes, No).\n",
        "30. **Radiation**: Si le patient a reçu une radiothérapie (ex. Yes, No).\n",
        "31. **Recurrence**: Si le cancer a récidivé (ex. Yes, No).\n",
        "32. **Recurrence Location**: Lieu de la récidive (ex. Local, Distant).\n",
        "33. **Date of Recurrence**: Date de la récidive.\n",
        "34. **Date of Last Known Alive**: Date à laquelle le patient a été vu pour la dernière fois vivant.\n",
        "35. **Survival Status**: Statut de survie du patient (ex. Alive, Dead).\n",
        "36. **Date of Death**: Date de décès du patient.\n",
        "37. **Time to Death (days)**: Temps jusqu'au décès en jours.\n",
        "38. **CT Date**: Date du scanner.\n",
        "39. **Days between CT and surgery**: Nombre de jours entre le scanner et la chirurgie.\n",
        "40. **PET Date**: Date du PET scan.\n",
        "\n",
        "Ces colonnes fournissent une vue d'ensemble complète des informations cliniques et pathologiques relatives aux patients atteints de cancer du poumon.\n"
      ],
      "metadata": {
        "id": "lcy3pACbZk6-"
      }
    },
    {
      "cell_type": "markdown",
      "source": [
        "![34356549 (1).png](data:image/png;base64,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)"
      ],
      "metadata": {
        "id": "bksjR90hiIVy"
      }
    },
    {
      "cell_type": "code",
      "source": [],
      "metadata": {
        "id": "DEVLxWirYYRq"
      },
      "execution_count": null,
      "outputs": []
    }
  ]
}